{
 "cells": [
  {
   "cell_type": "code",
   "execution_count": 25,
   "id": "766d0a2f",
   "metadata": {},
   "outputs": [],
   "source": [
    "import pandas as pd\n",
    "import seaborn as sns\n",
    "import matplotlib.pyplot as plt\n",
    "import numpy as np\n",
    "DATA = pd.read_excel(r'C:\\Users\\Nikita\\OneDrive\\Desktop\\Python for DataScience\\dataset\\DATAMERGER1.xlsx')\n",
    "\n",
    "df = pd.DataFrame(DATA)"
   ]
  },
  {
   "cell_type": "markdown",
   "id": "370269a0",
   "metadata": {},
   "source": [
    "DATA MERGE"
   ]
  },
  {
   "cell_type": "markdown",
   "id": "6aa27052",
   "metadata": {},
   "source": [
    "If My Data have in same excelsheets and but different sheet"
   ]
  },
  {
   "cell_type": "code",
   "execution_count": 26,
   "id": "9ec61c19",
   "metadata": {},
   "outputs": [
    {
     "name": "stdout",
     "output_type": "stream",
     "text": [
      "   No      Name  Age      Occupation   Address   Salary\n",
      "0   1     Arjun   45              CA    Mumbai   150000\n",
      "1   2     Vijay   34             MBA      Pune   263232\n",
      "2   3     Suyog   45          Lawyer  Hydrabad    64521\n",
      "3   4    Nikita   22  Data Scientist     Delhi    45452\n",
      "4   5   Radhika   34      Accountant  Banglore  4512323\n",
      "5   6     Pawan   61           Clerk   Gurgaon  4542512\n",
      "6   7    Yogita   45              GM   Kolkata   315323\n",
      "7   8      Ajay   68              MR   Chennai     3475\n",
      "8   9  Priyanka   87      Therapiest    Mumbai  1545462\n",
      "9  10     Rutik   44        Designer      Pune    69532\n"
     ]
    }
   ],
   "source": [
    "import pandas as pd\n",
    "\n",
    "# Load both sheets from the same Excel file\n",
    "file_path = r'C:\\Users\\Nikita\\OneDrive\\Desktop\\Python for DataScience\\dataset\\DATAMERGER1.xlsx'\n",
    "\n",
    "# Replace 'Sheet1' and 'Sheet2' with your actual sheet names\n",
    "df1 = pd.read_excel(file_path, sheet_name='Data1')\n",
    "df2 = pd.read_excel(file_path, sheet_name='Data2')\n",
    "\n",
    "# Merge the two DataFrames on the common column 'No'\n",
    "merged_df = pd.merge(df1, df2, on='No', how='inner')\n",
    "\n",
    "# Optional: remove _x and _y suffixes if both sheets have same columns\n",
    "merged_df = merged_df.loc[:, ~merged_df.columns.str.endswith('_y')]\n",
    "merged_df.columns = merged_df.columns.str.replace('_x', '', regex=False)\n",
    "\n",
    "# Show merged result\n",
    "print(merged_df)\n"
   ]
  },
  {
   "cell_type": "markdown",
   "id": "5fc0e5b5",
   "metadata": {},
   "source": [
    "If My Data have in two different excelsheets\n"
   ]
  },
  {
   "cell_type": "code",
   "execution_count": 27,
   "id": "ef5efd8d",
   "metadata": {},
   "outputs": [
    {
     "data": {
      "text/html": [
       "<div>\n",
       "<style scoped>\n",
       "    .dataframe tbody tr th:only-of-type {\n",
       "        vertical-align: middle;\n",
       "    }\n",
       "\n",
       "    .dataframe tbody tr th {\n",
       "        vertical-align: top;\n",
       "    }\n",
       "\n",
       "    .dataframe thead th {\n",
       "        text-align: right;\n",
       "    }\n",
       "</style>\n",
       "<table border=\"1\" class=\"dataframe\">\n",
       "  <thead>\n",
       "    <tr style=\"text-align: right;\">\n",
       "      <th></th>\n",
       "      <th>ID</th>\n",
       "      <th>Name</th>\n",
       "      <th>Div</th>\n",
       "      <th>Marks</th>\n",
       "      <th>Out of</th>\n",
       "    </tr>\n",
       "  </thead>\n",
       "  <tbody>\n",
       "    <tr>\n",
       "      <th>0</th>\n",
       "      <td>1</td>\n",
       "      <td>Suyog Shirdhankar</td>\n",
       "      <td>A</td>\n",
       "      <td>89</td>\n",
       "      <td>100</td>\n",
       "    </tr>\n",
       "    <tr>\n",
       "      <th>1</th>\n",
       "      <td>2</td>\n",
       "      <td>Radhika Surve</td>\n",
       "      <td>B</td>\n",
       "      <td>78</td>\n",
       "      <td>100</td>\n",
       "    </tr>\n",
       "    <tr>\n",
       "      <th>2</th>\n",
       "      <td>3</td>\n",
       "      <td>Arjun patil</td>\n",
       "      <td>C</td>\n",
       "      <td>99</td>\n",
       "      <td>100</td>\n",
       "    </tr>\n",
       "    <tr>\n",
       "      <th>3</th>\n",
       "      <td>4</td>\n",
       "      <td>Neha Sarmalkar</td>\n",
       "      <td>A</td>\n",
       "      <td>55</td>\n",
       "      <td>100</td>\n",
       "    </tr>\n",
       "    <tr>\n",
       "      <th>4</th>\n",
       "      <td>5</td>\n",
       "      <td>Sneha Padhye</td>\n",
       "      <td>B</td>\n",
       "      <td>62</td>\n",
       "      <td>100</td>\n",
       "    </tr>\n",
       "  </tbody>\n",
       "</table>\n",
       "</div>"
      ],
      "text/plain": [
       "   ID               Name Div  Marks  Out of\n",
       "0   1  Suyog Shirdhankar   A     89     100\n",
       "1   2      Radhika Surve   B     78     100\n",
       "2   3        Arjun patil   C     99     100\n",
       "3   4     Neha Sarmalkar   A     55     100\n",
       "4   5       Sneha Padhye   B     62     100"
      ]
     },
     "execution_count": 27,
     "metadata": {},
     "output_type": "execute_result"
    }
   ],
   "source": [
    "import pandas as pd\n",
    "\n",
    "# Load the two Excel files\n",
    "file1 = r'C:\\Users\\Nikita\\OneDrive\\Desktop\\Python for DataScience\\dataset\\StudentDetails1.xlsx'\n",
    "file2 = r'C:\\Users\\Nikita\\OneDrive\\Desktop\\Python for DataScience\\dataset\\StudentDetails2.xlsx'\n",
    "\n",
    "# Read the Excel files into DataFrames\n",
    "df1 = pd.read_excel(file1)\n",
    "df2 = pd.read_excel(file2)\n",
    "\n",
    "# Merge the DataFrames on the common column 'No'\n",
    "merged_df = pd.merge(df1, df2, on='ID', how='inner')\n",
    "merged_df"
   ]
  },
  {
   "cell_type": "code",
   "execution_count": 38,
   "id": "7ecd1a91",
   "metadata": {},
   "outputs": [
    {
     "name": "stdout",
     "output_type": "stream",
     "text": [
      "                   FullDetails\n",
      "0  Nikita Shirdhankar - Mumbai\n",
      "1         Raju Gavkar - Satara\n",
      "2     Nikhil Bhole - Ratnagiri\n",
      "3        Ashish  Jadhav - Pune\n"
     ]
    }
   ],
   "source": [
    "import pandas as pd\n",
    "\n",
    "# Load the Excel file into a DataFrame\n",
    "file_path = r'C:\\Users\\Nikita\\OneDrive\\Desktop\\Python for DataScience\\dataset\\Concatenation.xlsx'\n",
    "df = pd.read_excel(file_path)\n",
    "\n",
    "# Concatenate the columns\n",
    "df['FullDetails'] = df['Name'] + ' ' +  df['Surname'] + ' - ' + df['Address']\n",
    "\n",
    "# Display result\n",
    "print(df[['FullDetails']])\n"
   ]
  }
 ],
 "metadata": {
  "kernelspec": {
   "display_name": "python_ml",
   "language": "python",
   "name": "python3"
  },
  "language_info": {
   "codemirror_mode": {
    "name": "ipython",
    "version": 3
   },
   "file_extension": ".py",
   "mimetype": "text/x-python",
   "name": "python",
   "nbconvert_exporter": "python",
   "pygments_lexer": "ipython3",
   "version": "3.11.11"
  }
 },
 "nbformat": 4,
 "nbformat_minor": 5
}
